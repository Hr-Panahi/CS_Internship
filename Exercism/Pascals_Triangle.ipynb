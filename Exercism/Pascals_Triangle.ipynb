{
 "cells": [
  {
   "cell_type": "markdown",
   "metadata": {},
   "source": [
    "# Exercism: Pascal's Triangle\n",
    "\n",
    "1. Prompt the user for the number of lines in Pascal's Triangle.\n",
    "2. Initialize a list of integers called `previousLine` to kickstart the logic.\n",
    "\n",
    "3. Use a for loop to iterate over each row:\n",
    "    - Create a list, `myList`, with zeros to represent the current line.\n",
    "    \n",
    "4. Implement a nested loop to iterate through each element in the line:\n",
    "    - If the element is the first or last in the line, set it to 1.\n",
    "    - Otherwise, calculate its value based on the previous line's elements.\n",
    "\n",
    "5. Clear the `previousLine` list and assign `myList` to it for the next iteration.\n",
    "\n",
    "6. Print the elements of each line and move to the next line.\n",
    "\n",
    "This code generates Pascal's Triangle based on user input and updates each line by calculating values using the previous line's elements.\n"
   ]
  },
  {
   "cell_type": "code",
   "execution_count": null,
   "metadata": {
    "dotnet_interactive": {
     "language": "csharp"
    },
    "polyglot_notebook": {
     "kernelName": "csharp"
    }
   },
   "outputs": [],
   "source": [
    "int rows = Convert.ToInt32(Console.ReadLine());\n",
    "\n",
    "List<int> previousLine = new List<int>() { 1, 1 };\n",
    "\n",
    "for (int i = 1; i <= rows; i++)\n",
    "{\n",
    "    List<int> myList = new List<int>(Enumerable.Repeat(0, i));\n",
    "    \n",
    "    for (int j = 0; j < i; j++)\n",
    "    {\n",
    "        if (j == 0 || j == i - 1)  //sets the first and last elements in each line to 1\n",
    "            myList[j] = 1;\n",
    "        else\n",
    "            myList[j] = previousLine[j] + previousLine[j - 1];\n",
    "\n",
    "        Console.Write(myList[j]);\n",
    "    }\n",
    "    \n",
    "    previousLine.Clear();\n",
    "    previousLine = myList;\n",
    "    Console.Write(\"\\n\");\n",
    "}"
   ]
  }
 ],
 "metadata": {
  "kernelspec": {
   "display_name": ".NET (C#)",
   "language": "C#",
   "name": ".net-csharp"
  },
  "language_info": {
   "name": "polyglot-notebook"
  },
  "polyglot_notebook": {
   "kernelInfo": {
    "defaultKernelName": "csharp",
    "items": [
     {
      "aliases": [],
      "languageName": "csharp",
      "name": "csharp"
     }
    ]
   }
  }
 },
 "nbformat": 4,
 "nbformat_minor": 2
}
