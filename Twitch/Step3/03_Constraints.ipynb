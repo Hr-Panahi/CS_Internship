{
 "cells": [
  {
   "cell_type": "markdown",
   "metadata": {},
   "source": [
    "## 𝐂𝐨𝐧𝐬𝐭𝐫𝐚𝐢𝐧𝐭𝐬\n",
    "- Constraints inform the compiler about the capabilities a type argument must have.\n",
    "- Without any constraints, the type argument could be any type.\n",
    "- If client code uses a type that doesn't satisfy a constraint, the compiler issues an error.\n",
    "- Constraints are specified by using the `where` contextual keyword.\n"
   ]
  },
  {
   "cell_type": "markdown",
   "metadata": {},
   "source": [
    "---\n"
   ]
  },
  {
   "cell_type": "markdown",
   "metadata": {},
   "source": [
    "#### 1) Type Constraint\n",
    "- A type constraint is a way to restrict the types that can be used as arguments for generic type parameters. This helps ensure that only certain types, or types that meet specific criteria, can be used with a generic class or method."
   ]
  },
  {
   "cell_type": "code",
   "execution_count": null,
   "metadata": {
    "dotnet_interactive": {
     "language": "csharp"
    },
    "polyglot_notebook": {
     "kernelName": "csharp"
    }
   },
   "outputs": [],
   "source": [
    "public interface ILoggable\n",
    "{\n",
    "    void Log();\n",
    "}\n"
   ]
  },
  {
   "cell_type": "code",
   "execution_count": null,
   "metadata": {
    "dotnet_interactive": {
     "language": "csharp"
    },
    "polyglot_notebook": {
     "kernelName": "csharp"
    }
   },
   "outputs": [],
   "source": [
    "public class Logger\n",
    "{\n",
    "    public void LogItem<T>(T item) where T : ILoggable\n",
    "    {\n",
    "        item.Log();\n",
    "    }\n",
    "}"
   ]
  },
  {
   "cell_type": "code",
   "execution_count": null,
   "metadata": {
    "dotnet_interactive": {
     "language": "csharp"
    },
    "polyglot_notebook": {
     "kernelName": "csharp"
    }
   },
   "outputs": [],
   "source": [
    "\n",
    "public class Message : ILoggable\n",
    "{\n",
    "    private string content;\n",
    "\n",
    "    public Message(string content)\n",
    "    {\n",
    "        this.content = content;\n",
    "    }\n",
    "\n",
    "    public void Log()\n",
    "    {\n",
    "        Console.WriteLine($\"Logging message: {content}\");\n",
    "    }\n",
    "}"
   ]
  },
  {
   "cell_type": "code",
   "execution_count": null,
   "metadata": {
    "dotnet_interactive": {
     "language": "csharp"
    },
    "polyglot_notebook": {
     "kernelName": "csharp"
    }
   },
   "outputs": [],
   "source": [
    "Logger logger = new Logger();\n",
    "Message message = new Message(\"Hello, world!\");\n",
    "logger.LogItem(message);"
   ]
  },
  {
   "cell_type": "markdown",
   "metadata": {},
   "source": [
    "----\n",
    "### 2) Reference Type Constraints\n",
    "- The type argument must be a reference type. This constraint applies also to any class, interface, delegate, or array type."
   ]
  },
  {
   "cell_type": "code",
   "execution_count": null,
   "metadata": {
    "dotnet_interactive": {
     "language": "csharp"
    },
    "polyglot_notebook": {
     "kernelName": "csharp"
    }
   },
   "outputs": [],
   "source": [
    "public class Example<T> where T : class \n",
    "{\n",
    "    // This class can only be used with reference types\n",
    "}"
   ]
  },
  {
   "cell_type": "code",
   "execution_count": null,
   "metadata": {
    "dotnet_interactive": {
     "language": "csharp"
    },
    "polyglot_notebook": {
     "kernelName": "csharp"
    }
   },
   "outputs": [],
   "source": [
    "public interface IMyInterface{}\n",
    "public class MyClass{}"
   ]
  },
  {
   "cell_type": "code",
   "execution_count": null,
   "metadata": {
    "dotnet_interactive": {
     "language": "csharp"
    },
    "polyglot_notebook": {
     "kernelName": "csharp"
    }
   },
   "outputs": [],
   "source": [
    "Example<MyClass> instance1 = new Example<MyClass>{};\n",
    "Example<IMyInterface> instance2 = new Example<IMyInterface>{};\n"
   ]
  },
  {
   "cell_type": "code",
   "execution_count": null,
   "metadata": {
    "dotnet_interactive": {
     "language": "csharp"
    },
    "polyglot_notebook": {
     "kernelName": "csharp"
    }
   },
   "outputs": [],
   "source": [
    "Example<int> instance3 = new Example<int>{};"
   ]
  },
  {
   "cell_type": "markdown",
   "metadata": {},
   "source": [
    "----\n",
    "### 3) Value Type Constraints\n",
    "- the value type constraint is a type constraint that restricts a generic type parameter to be a value type (such as a struct)."
   ]
  },
  {
   "cell_type": "code",
   "execution_count": null,
   "metadata": {
    "dotnet_interactive": {
     "language": "csharp"
    },
    "polyglot_notebook": {
     "kernelName": "csharp"
    }
   },
   "outputs": [],
   "source": [
    "public class ThirdConstraint<T> where T : struct\n",
    "{\n",
    "    // This class can only be used with value types\n",
    "}"
   ]
  },
  {
   "cell_type": "code",
   "execution_count": null,
   "metadata": {
    "dotnet_interactive": {
     "language": "csharp"
    },
    "polyglot_notebook": {
     "kernelName": "csharp"
    }
   },
   "outputs": [],
   "source": [
    "public struct MyStruct{};\n",
    "\n",
    "enum MyEnum\n",
    "{\n",
    "    value1, value2, value3\n",
    "}\n",
    "\n",
    "public interface IAmReferenceType{}"
   ]
  },
  {
   "cell_type": "code",
   "execution_count": null,
   "metadata": {
    "dotnet_interactive": {
     "language": "csharp"
    },
    "polyglot_notebook": {
     "kernelName": "csharp"
    }
   },
   "outputs": [],
   "source": [
    "var instance1 = new ThirdConstraint<int>{};\n",
    "var instance2 = new ThirdConstraint<bool>{};\n",
    "var instance3 = new ThirdConstraint<MyStruct>{};\n",
    "var instance4 = new ThirdConstraint<MyEnum>{};"
   ]
  },
  {
   "cell_type": "code",
   "execution_count": null,
   "metadata": {
    "dotnet_interactive": {
     "language": "csharp"
    },
    "polyglot_notebook": {
     "kernelName": "csharp"
    }
   },
   "outputs": [],
   "source": [
    "var instance5 = new ThirdConstraint<string>{};\n",
    "var instance6 = new ThirdConstraint<IAmReferenceType>{};"
   ]
  },
  {
   "cell_type": "markdown",
   "metadata": {},
   "source": [
    "----\n",
    "### 4) Unmanaged Constraints\n",
    "- The type argument must be non-nullable value type.\n",
    "- An unmanaged type is a type that doesn't contain any reference types or managed pointers. "
   ]
  },
  {
   "cell_type": "code",
   "execution_count": null,
   "metadata": {
    "dotnet_interactive": {
     "language": "csharp"
    },
    "polyglot_notebook": {
     "kernelName": "csharp"
    }
   },
   "outputs": [],
   "source": [
    "public class UnmanagedExample<T> where T : unmanaged\n",
    "{\n",
    "    public void DisplayValue(T value)\n",
    "    {\n",
    "        Console.WriteLine(value);\n",
    "    }\n",
    "}"
   ]
  },
  {
   "cell_type": "code",
   "execution_count": null,
   "metadata": {
    "dotnet_interactive": {
     "language": "csharp"
    },
    "polyglot_notebook": {
     "kernelName": "csharp"
    }
   },
   "outputs": [],
   "source": [
    "public struct myStruct\n",
    "{\n",
    "    public string name;\n",
    "    public int age;\n",
    "\n",
    "    public myStruct()\n",
    "    {\n",
    "        //name = \"hamid\";\n",
    "        age = 28;\n",
    "\n",
    "    }\n",
    "}"
   ]
  },
  {
   "cell_type": "code",
   "execution_count": null,
   "metadata": {
    "dotnet_interactive": {
     "language": "csharp"
    },
    "polyglot_notebook": {
     "kernelName": "csharp"
    }
   },
   "outputs": [],
   "source": [
    "var myInstance1 = new UnmanagedExample<myStruct>{};\n",
    "//var myInstance2 = new UnmanagedExample<myStruct>{};"
   ]
  },
  {
   "cell_type": "markdown",
   "metadata": {},
   "source": [
    "----\n",
    "### 5) Notnull Constraints\n",
    "- You can use the 𝐧𝐨𝐭𝐧𝐮𝐥𝐥 constraint to specify that the type argument must be a non-nullable value type or non-nullable reference type.\n",
    "- Unlike most other constraints, if a type argument violates the 𝐧𝐨𝐭𝐧𝐮𝐥𝐥 constraint, the compiler generates a warning instead of an error.\n",
    "- The 𝐧𝐨𝐭𝐧𝐮𝐥𝐥 constraint has an effect only when used in a nullable context."
   ]
  },
  {
   "cell_type": "code",
   "execution_count": null,
   "metadata": {
    "dotnet_interactive": {
     "language": "csharp"
    },
    "polyglot_notebook": {
     "kernelName": "csharp"
    }
   },
   "outputs": [],
   "source": [
    "void PrintNotNullableString<T>(T value) where T : notnull\n",
    "{\n",
    "    Console.WriteLine(value);\n",
    "}"
   ]
  },
  {
   "cell_type": "code",
   "execution_count": null,
   "metadata": {
    "dotnet_interactive": {
     "language": "csharp"
    },
    "polyglot_notebook": {
     "kernelName": "csharp"
    }
   },
   "outputs": [],
   "source": [
    "#nullable enable\n",
    "string? nullableString = null;\n",
    "PrintNotNullableString(nullableString);"
   ]
  },
  {
   "cell_type": "markdown",
   "metadata": {},
   "source": [
    "----\n",
    "### 6) `new()` Constraint\n",
    "- The 𝐧𝐞𝐰 constraint specifies that a type argument in a generic class or method declaration must have a 𝐩𝐮𝐛𝐥𝐢𝐜 𝐩𝐚𝐫𝐚𝐦𝐞𝐭𝐞𝐫𝐥𝐞𝐬𝐬 𝐜𝐨𝐧𝐬𝐭𝐫𝐮𝐜𝐭𝐨𝐫."
   ]
  },
  {
   "cell_type": "code",
   "execution_count": null,
   "metadata": {
    "dotnet_interactive": {
     "language": "csharp"
    },
    "polyglot_notebook": {
     "kernelName": "csharp"
    }
   },
   "outputs": [],
   "source": [
    "T GenericMethod<T>() where T : new()\n",
    "{\n",
    "    return new T();\n",
    "}"
   ]
  },
  {
   "cell_type": "code",
   "execution_count": null,
   "metadata": {
    "dotnet_interactive": {
     "language": "csharp"
    },
    "polyglot_notebook": {
     "kernelName": "csharp"
    }
   },
   "outputs": [],
   "source": [
    "struct MyStruct{}\n",
    "enum myEnum{}\n",
    "class ClassOne{}\n",
    "\n",
    "class ClassTwo\n",
    "{\n",
    "    public ClassTwo(){}\n",
    "}"
   ]
  },
  {
   "cell_type": "code",
   "execution_count": null,
   "metadata": {
    "dotnet_interactive": {
     "language": "csharp"
    },
    "polyglot_notebook": {
     "kernelName": "csharp"
    }
   },
   "outputs": [],
   "source": [
    "GenericMethod<MyStruct>();\n",
    "GenericMethod<myEnum>();\n",
    "GenericMethod<int>();\n",
    "GenericMethod<bool>();\n",
    "\n",
    "\n",
    "GenericMethod<ClassOne>();\n",
    "GenericMethod<ClassTwo>();\n"
   ]
  },
  {
   "cell_type": "markdown",
   "metadata": {},
   "source": [
    "----\n",
    "## Multiple Constraints"
   ]
  },
  {
   "cell_type": "code",
   "execution_count": null,
   "metadata": {
    "dotnet_interactive": {
     "language": "csharp"
    },
    "polyglot_notebook": {
     "kernelName": "csharp"
    }
   },
   "outputs": [],
   "source": [
    "public class Spong<T, U>\n",
    "    where T : IEnumerable<T>, IDisposable, new()\n",
    "    where U : T\n",
    "    {}"
   ]
  }
 ],
 "metadata": {
  "kernelspec": {
   "display_name": ".NET (C#)",
   "language": "C#",
   "name": ".net-csharp"
  },
  "language_info": {
   "name": "polyglot-notebook"
  },
  "polyglot_notebook": {
   "kernelInfo": {
    "defaultKernelName": "csharp",
    "items": [
     {
      "aliases": [],
      "languageName": "csharp",
      "name": "csharp"
     }
    ]
   }
  }
 },
 "nbformat": 4,
 "nbformat_minor": 2
}
