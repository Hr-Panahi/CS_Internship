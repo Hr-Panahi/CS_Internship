{
 "cells": [
  {
   "cell_type": "markdown",
   "metadata": {},
   "source": [
    "# Presentation Outline\n",
    "\n",
    "## Generics in C#\n",
    "\n",
    "- Introduction to generics in C#\n",
    "- Understanding the need for generics\n",
    "- Benefits of using generics in C#\n",
    "- Overview of generic types\n",
    "- Creating and using generic classes\n",
    "- Implementing generic methods\n",
    "- Exploring generic interfaces\n",
    "\n",
    "## Constraints in Generics\n",
    "\n",
    "### - Definition\n",
    "\n",
    "\n",
    "### - Different Kinds\n",
    "####    1- Type Constraints\n",
    "####    2- Reference Type Constraints\n",
    "####    3- Unmanaged Constraints\n",
    "####    4- Value Type Constraints\n",
    "####    5- Not Null Constraints\n",
    "####    6- `new()` Constraint\n",
    "\n",
    "## Generics and Tuples\n"
   ]
  }
 ],
 "metadata": {
  "kernelspec": {
   "display_name": ".NET (C#)",
   "language": "C#",
   "name": ".net-csharp"
  },
  "language_info": {
   "name": "polyglot-notebook"
  },
  "polyglot_notebook": {
   "kernelInfo": {
    "defaultKernelName": "csharp",
    "items": [
     {
      "aliases": [],
      "languageName": "csharp",
      "name": "csharp"
     }
    ]
   }
  }
 },
 "nbformat": 4,
 "nbformat_minor": 2
}
