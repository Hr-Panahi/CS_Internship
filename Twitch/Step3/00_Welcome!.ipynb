{
 "cells": [
  {
   "cell_type": "markdown",
   "metadata": {},
   "source": [
    "# 𝑾𝒆𝒍𝒄𝒐𝒎𝒆 𝒕𝒐 𝒕𝒉𝒆 𝑪𝑺 𝑰𝒏𝒕𝒆𝒓𝒏𝒔𝒉𝒊𝒑 𝑳𝒊𝒗𝒆 𝑷𝒓𝒆𝒔𝒆𝒏𝒕𝒂𝒕𝒊𝒐𝒏!\n",
    "\n",
    "##      𝐃𝐚𝐭𝐞: 𝟏 𝐅𝐞𝐛 𝟐𝟎𝟐𝟒\n",
    "\n",
    "##      𝐏𝐫𝐞𝐬𝐞𝐧𝐭𝐞𝐫: 𝐇𝐚𝐦𝐢𝐝 𝐑𝐞𝐳𝐚 𝐏𝐚𝐧𝐚𝐡𝐢\n",
    "\n",
    "##      𝐒𝐭𝐞𝐩 𝟑: 𝐆𝐞𝐧𝐞𝐫𝐢𝐜𝐬\n",
    "\n",
    "\n",
    "\n"
   ]
  }
 ],
 "metadata": {
  "kernelspec": {
   "display_name": ".NET (C#)",
   "language": "C#",
   "name": ".net-csharp"
  },
  "language_info": {
   "name": "polyglot-notebook"
  },
  "polyglot_notebook": {
   "kernelInfo": {
    "defaultKernelName": "csharp",
    "items": [
     {
      "aliases": [],
      "languageName": "csharp",
      "name": "csharp"
     }
    ]
   }
  }
 },
 "nbformat": 4,
 "nbformat_minor": 2
}
