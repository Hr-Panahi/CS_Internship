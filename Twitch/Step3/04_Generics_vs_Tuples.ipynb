{
 "cells": [
  {
   "cell_type": "markdown",
   "metadata": {},
   "source": [
    "## Tuples\n",
    "- The tuples feature provides concise syntax to group multiple data elements in a lightweight data structure.\n",
    "- Tuple types are value types; tuple elements are public fields. That makes tuples mutable value types."
   ]
  },
  {
   "cell_type": "code",
   "execution_count": null,
   "metadata": {
    "dotnet_interactive": {
     "language": "csharp"
    },
    "polyglot_notebook": {
     "kernelName": "csharp"
    }
   },
   "outputs": [],
   "source": [
    "(double, int) t1 = (4.5, 3);\n",
    "Console.WriteLine($\"Tuple with elements {t1.Item1} and {t1.Item2}.\");\n",
    "\n",
    "(double Sum, int Count) t2 = (4.5, 3);\n",
    "Console.WriteLine($\"Sum of {t2.Count} elements is {t2.Sum}.\");"
   ]
  },
  {
   "cell_type": "code",
   "execution_count": null,
   "metadata": {
    "dotnet_interactive": {
     "language": "csharp"
    },
    "polyglot_notebook": {
     "kernelName": "csharp"
    }
   },
   "outputs": [],
   "source": [
    "t2 = (4.8, 10);\n",
    "Console.WriteLine($\"Tuple with elements {t2.Item1} and {t2.Item2}.\");"
   ]
  },
  {
   "cell_type": "markdown",
   "metadata": {},
   "source": [
    "- Tuple types support equality operators `==` and `!=`.\n"
   ]
  },
  {
   "cell_type": "code",
   "execution_count": null,
   "metadata": {
    "dotnet_interactive": {
     "language": "csharp"
    },
    "polyglot_notebook": {
     "kernelName": "csharp"
    }
   },
   "outputs": [],
   "source": [
    "(string, int) t3 = (\"Hamid\", 28);\n",
    "(string, int) t4 = (\"Hamid\", 28);\n",
    "(int, int) t5 = (10, 28);\n",
    "\n",
    "Console.WriteLine(t3 == t4);"
   ]
  },
  {
   "cell_type": "markdown",
   "metadata": {},
   "source": [
    "- One of the most common use cases of tuples is as a method return type."
   ]
  },
  {
   "cell_type": "code",
   "execution_count": null,
   "metadata": {
    "dotnet_interactive": {
     "language": "csharp"
    },
    "polyglot_notebook": {
     "kernelName": "csharp"
    }
   },
   "outputs": [],
   "source": [
    "(int min, int max) FindMinMax(int[] input)\n",
    "{\n",
    "    if (input is null || input.Length == 0)\n",
    "    {\n",
    "        throw new ArgumentException(\"Cannot find minimum and maximum of a null or empty array.\");\n",
    "    }\n",
    "\n",
    "    var min = int.MaxValue;\n",
    "    var max = int.MinValue;\n",
    "    \n",
    "    foreach (var i in input)\n",
    "    {\n",
    "        if (i < min)\n",
    "        {\n",
    "            min = i;\n",
    "        }\n",
    "        if (i > max)\n",
    "        {\n",
    "            max = i;\n",
    "        }\n",
    "    }\n",
    "    return (min, max);\n",
    "}"
   ]
  },
  {
   "cell_type": "code",
   "execution_count": null,
   "metadata": {
    "dotnet_interactive": {
     "language": "csharp"
    },
    "polyglot_notebook": {
     "kernelName": "csharp"
    }
   },
   "outputs": [],
   "source": [
    "int[] input2 = [1,5,8,0,-2];\n",
    "FindMinMax(input2)"
   ]
  },
  {
   "cell_type": "markdown",
   "metadata": {},
   "source": [
    "----\n",
    "Generics and Tuples\n",
    "- C#’s lightweight tuples have a distinctive syntax, but as far as the runtime is\n",
    "concerned, there is nothing special about them. They are all just instances\n",
    "of a set of generic types."
   ]
  },
  {
   "cell_type": "code",
   "execution_count": null,
   "metadata": {
    "dotnet_interactive": {
     "language": "csharp"
    },
    "polyglot_notebook": {
     "kernelName": "csharp"
    }
   },
   "outputs": [],
   "source": [
    "(int first, int second) p = (42, 99); //normal way\n",
    "ValueTuple<int, int> p2 = (42, 99); // struct : all the ValueTuple types are structs\n",
    "Tuple<int, int> p3 = Tuple.Create(42, 99); // class : Tuple family of generic types are all classes\n"
   ]
  }
 ],
 "metadata": {
  "kernelspec": {
   "display_name": ".NET (C#)",
   "language": "C#",
   "name": ".net-csharp"
  },
  "language_info": {
   "name": "polyglot-notebook"
  },
  "polyglot_notebook": {
   "kernelInfo": {
    "defaultKernelName": "csharp",
    "items": [
     {
      "aliases": [],
      "languageName": "csharp",
      "name": "csharp"
     }
    ]
   }
  }
 },
 "nbformat": 4,
 "nbformat_minor": 2
}
