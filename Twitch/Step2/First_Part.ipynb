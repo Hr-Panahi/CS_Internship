{
 "cells": [
  {
   "cell_type": "markdown",
   "metadata": {},
   "source": [
    "# Introduction to Types in C#\n",
    "## Step: 2 - Hamid Reza Panahi (January 4, 2024)\n",
    "### Outline:\n",
    "   * Introduction\n",
    "   * Members in C#\n",
    "   * Data Types\n",
    "       * class\n",
    "       * record\n",
    "       * struct\n",
    "       * interface\n",
    "       * enum\n",
    "       * anonymous types\n",
    "       * partial types"
   ]
  },
  {
   "cell_type": "markdown",
   "metadata": {},
   "source": [
    "# Introduction\n",
    "C# does not limit us to use only built-in data types. It allows us to define and implement owr own types.\n",
    "\n",
    "Anything we write belongs to a type!"
   ]
  },
  {
   "cell_type": "markdown",
   "metadata": {},
   "source": [
    "# Members in C#\n",
    "\n",
    "* Accessibility\n",
    "\n",
    "In C#, members (fields, methods, properties, etc.) can have different levels of accessibility, denoting their visibility to other parts of the program. Common access modifiers include `public`, `private`, `protected`, `internal`, and `protected internal`."
   ]
  },
  {
   "cell_type": "code",
   "execution_count": null,
   "metadata": {
    "dotnet_interactive": {
     "language": "csharp"
    },
    "polyglot_notebook": {
     "kernelName": "csharp"
    }
   },
   "outputs": [],
   "source": [
    "public class ExampleClass\n",
    "{\n",
    "    private int _id; //field with \"private\" accessibility\n",
    "    public string someInfo; // field with \"public\" accessibility\n",
    "}"
   ]
  },
  {
   "cell_type": "markdown",
   "metadata": {},
   "source": [
    "* Fields:\n",
    "Fields are named storage locations within a type that hold data. They are the variables of a class and define the characteristics or attributes of an object.\n",
    "\n",
    "* Constructor:\n",
    "A constructor is a special method that is called when an instance of a class is created. It is used to initialize the object and set up its initial state."
   ]
  },
  {
   "cell_type": "code",
   "execution_count": null,
   "metadata": {
    "dotnet_interactive": {
     "language": "csharp"
    },
    "polyglot_notebook": {
     "kernelName": "csharp"
    }
   },
   "outputs": [],
   "source": [
    "public class ExampleClass\n",
    "{\n",
    "    private int _id;\n",
    "    public string someInfo;\n",
    "    \n",
    "    public ExampleClass()\n",
    "    {\n",
    "        _id = 0;\n",
    "        someInfo = \"none\";\n",
    "    }\n",
    "    \n",
    "    public ExampleClass (int ID, string SomeInfo)\n",
    "    {\n",
    "        _id = ID;\n",
    "        someInfo = SomeInfo;\n",
    "    }\n",
    "\n",
    "}"
   ]
  },
  {
   "cell_type": "markdown",
   "metadata": {},
   "source": [
    "\n",
    "* Copy Constructor in Record or Record Class: \n",
    "A copy constructor is used to create a new object by copying the values from an existing object of the same type, commonly used with records.\n",
    "\n",
    "* Static Constructor: \n",
    "A static constructor is used to initialize the type itself, rather than an instance of the type. It is called once, the first time any member of the type is accessed.\n",
    "\n",
    "* Deconstructor: \n",
    "In Classes, deconstructor is used in the form of methods to access the class variables outside the class by assigning them into new variables.\n",
    "\n",
    "* Methods: \n",
    "Methods define the behavior of a class. They encapsulate a set of instructions to perform a specific task.\n",
    "\n",
    "* Methods with `out` Keyword\n",
    "The `out` keyword is used in method parameters to indicate that the parameter is being passed by reference and is used to return multiple values from a method."
   ]
  },
  {
   "cell_type": "code",
   "execution_count": null,
   "metadata": {
    "dotnet_interactive": {
     "language": "csharp"
    },
    "polyglot_notebook": {
     "kernelName": "csharp"
    }
   },
   "outputs": [],
   "source": [
    "    public static double DivideWithRemainder(double dividend, double divisor, out double remainder)\n",
    "    {\n",
    "        if (divisor == 0)\n",
    "        {\n",
    "            throw new ArgumentException(\"Cannot divide by zero.\", nameof(divisor));\n",
    "        }\n",
    "\n",
    "        double result = dividend / divisor;\n",
    "        remainder = dividend % divisor;\n",
    "\n",
    "        return result;\n",
    "    }"
   ]
  },
  {
   "cell_type": "markdown",
   "metadata": {},
   "source": [
    "\n",
    "* Overloading: \n",
    "Method overloading allows multiple methods in the same class with the same name but different parameter types or counts.\n",
    "\n",
    "* Properties: \n",
    "Properties provide a way to get or set the values of private fields in a controlled manner.\n",
    "\n",
    "* Operator Overloading: \n",
    "Operator overloading allows you to define custom behavior for operators such as `+, -, *, /` when used with instances of your class."
   ]
  }
 ],
 "metadata": {
  "kernelspec": {
   "display_name": ".NET (C#)",
   "language": "C#",
   "name": ".net-csharp"
  },
  "language_info": {
   "name": "polyglot-notebook"
  },
  "polyglot_notebook": {
   "kernelInfo": {
    "defaultKernelName": "csharp",
    "items": [
     {
      "aliases": [],
      "languageName": "csharp",
      "name": "csharp"
     }
    ]
   }
  }
 },
 "nbformat": 4,
 "nbformat_minor": 2
}
