{
 "cells": [
  {
   "cell_type": "markdown",
   "metadata": {},
   "source": [
    "# Class"
   ]
  },
  {
   "cell_type": "code",
   "execution_count": null,
   "metadata": {
    "dotnet_interactive": {
     "language": "csharp"
    },
    "polyglot_notebook": {
     "kernelName": "csharp"
    }
   },
   "outputs": [],
   "source": [
    "public class Counter\n",
    "{\n",
    "    private int _count;\n",
    "    private static int _totalCount;\n",
    "\n",
    "    public int GetNextValue()\n",
    "    {\n",
    "        _count += 1;\n",
    "        _totalCount += 1;\n",
    "        return _count;\n",
    "    }\n",
    "\n",
    "    public int Count\n",
    "    {\n",
    "        get {return _count;} \n",
    "        set { _count = Count;}\n",
    "    }\n",
    "    public static int TotalCount => _totalCount;\n",
    "}"
   ]
  },
  {
   "cell_type": "code",
   "execution_count": null,
   "metadata": {
    "dotnet_interactive": {
     "language": "csharp"
    },
    "polyglot_notebook": {
     "kernelName": "csharp"
    }
   },
   "outputs": [],
   "source": [
    "Counter c1 = new Counter();\n",
    "Counter c2 = new Counter();\n",
    "Console.WriteLine(\"c1: \" + c1.GetNextValue());\n",
    "Console.WriteLine(Counter.TotalCount);\n",
    "Console.WriteLine(\"c1: \" + c1.GetNextValue());\n",
    "Console.WriteLine(Counter.TotalCount);\n",
    "Console.WriteLine(\"c1: \" + c1.GetNextValue());\n",
    "Console.WriteLine(Counter.TotalCount);\n",
    "Console.WriteLine(\"c2: \" + c2.GetNextValue());\n",
    "Console.WriteLine(Counter.TotalCount);\n",
    "Console.WriteLine(\"c1: \" + c1.GetNextValue());\n",
    "Console.WriteLine(Counter.TotalCount);"
   ]
  },
  {
   "cell_type": "code",
   "execution_count": null,
   "metadata": {
    "dotnet_interactive": {
     "language": "csharp"
    },
    "polyglot_notebook": {
     "kernelName": "csharp"
    }
   },
   "outputs": [],
   "source": [
    "Counter c3 = c1;\n",
    "Console.WriteLine(\"c1: \" + c1.GetNextValue());\n",
    "Console.WriteLine(\"c3: \" + c3.GetNextValue());\n"
   ]
  },
  {
   "cell_type": "markdown",
   "metadata": {},
   "source": [
    "## Static Class"
   ]
  },
  {
   "cell_type": "code",
   "execution_count": null,
   "metadata": {
    "dotnet_interactive": {
     "language": "csharp"
    },
    "polyglot_notebook": {
     "kernelName": "csharp"
    }
   },
   "outputs": [],
   "source": [
    "public static class MathArea\n",
    "{\n",
    "    public const double Pi = 3.141592653589793;\n",
    "\n",
    "    public static double Square(double number)\n",
    "    {\n",
    "        return number * number;\n",
    "    }\n",
    "\n",
    "    public static double CalculateCircleArea(double radius)\n",
    "    {\n",
    "        return Pi * Square(radius);\n",
    "    }\n",
    "\n",
    "    // Static constructor\n",
    "    static MathArea()\n",
    "    {\n",
    "        Console.WriteLine(\"Static constructor of MathUtility executed.\");\n",
    "    }\n",
    "}"
   ]
  },
  {
   "cell_type": "code",
   "execution_count": null,
   "metadata": {
    "dotnet_interactive": {
     "language": "csharp"
    },
    "polyglot_notebook": {
     "kernelName": "csharp"
    }
   },
   "outputs": [],
   "source": [
    "// static method from static class\n",
    "int radius = 2;\n",
    "Console.WriteLine(MathArea.CalculateCircleArea(radius));"
   ]
  }
 ],
 "metadata": {
  "kernelspec": {
   "display_name": ".NET (C#)",
   "language": "C#",
   "name": ".net-csharp"
  },
  "language_info": {
   "name": "polyglot-notebook"
  },
  "polyglot_notebook": {
   "kernelInfo": {
    "defaultKernelName": "csharp",
    "items": [
     {
      "aliases": [],
      "languageName": "csharp",
      "name": "csharp"
     }
    ]
   }
  }
 },
 "nbformat": 4,
 "nbformat_minor": 2
}
