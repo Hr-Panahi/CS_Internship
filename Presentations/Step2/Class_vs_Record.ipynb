{
 "cells": [
  {
   "cell_type": "markdown",
   "metadata": {},
   "source": [
    "# Class vs. Record:\n",
    "## Implementing interface and using Equals method for class vs. '==' operator for Record"
   ]
  },
  {
   "cell_type": "markdown",
   "metadata": {},
   "source": [
    "## Class\n",
    "Implementing IEquatable<T>"
   ]
  },
  {
   "cell_type": "code",
   "execution_count": 26,
   "metadata": {
    "dotnet_interactive": {
     "language": "csharp"
    },
    "polyglot_notebook": {
     "kernelName": "csharp"
    }
   },
   "outputs": [],
   "source": [
    "public class TestClass : IEquatable<TestClass> \n",
    "{\n",
    "    private  int _firstGuess;\n",
    "    private  int _secondGuess;\n",
    "\n",
    "    public TestClass(int FirstGuess, int SecondGuess)\n",
    "    {\n",
    "        _firstGuess = FirstGuess;\n",
    "        _secondGuess = SecondGuess;\n",
    "    }\n",
    "\n",
    "\n",
    "    public bool Equals(TestClass? other)\n",
    "    {\n",
    "       return _firstGuess == other?._firstGuess && _secondGuess == other._secondGuess;\n",
    "    }\n",
    "\n",
    "}       "
   ]
  },
  {
   "cell_type": "code",
   "execution_count": 27,
   "metadata": {
    "dotnet_interactive": {
     "language": "csharp"
    },
    "polyglot_notebook": {
     "kernelName": "csharp"
    }
   },
   "outputs": [
    {
     "name": "stdout",
     "output_type": "stream",
     "text": [
      "False\n",
      "True\n",
      "True\n"
     ]
    }
   ],
   "source": [
    "TestClass p1 = new(2,4);\n",
    "TestClass p2 = new(2,4);\n",
    "TestClass p3 = p2;\n",
    "Console.WriteLine(p1 == p2);\n",
    "Console.WriteLine(p3 == p2);\n",
    "\n",
    "Console.WriteLine(p1.Equals(p2));"
   ]
  },
  {
   "cell_type": "markdown",
   "metadata": {},
   "source": [
    "## Record\n",
    "Using '==' operator"
   ]
  },
  {
   "cell_type": "code",
   "execution_count": 28,
   "metadata": {
    "dotnet_interactive": {
     "language": "csharp"
    },
    "polyglot_notebook": {
     "kernelName": "csharp"
    }
   },
   "outputs": [],
   "source": [
    "public record TestRecord\n",
    "{\n",
    "    private  int _firstGuess;\n",
    "    private  int _secondGuess;\n",
    "\n",
    "    public TestRecord(int FirstGuess, int SecondGuess)\n",
    "    {\n",
    "        _firstGuess = FirstGuess;\n",
    "        _secondGuess = SecondGuess;\n",
    "    }\n",
    "}   "
   ]
  },
  {
   "cell_type": "code",
   "execution_count": 29,
   "metadata": {
    "dotnet_interactive": {
     "language": "csharp"
    },
    "polyglot_notebook": {
     "kernelName": "csharp"
    }
   },
   "outputs": [],
   "source": [
    "TestRecord p1 = new(2,4);\n",
    "TestRecord p2 = new(2,4);"
   ]
  },
  {
   "cell_type": "code",
   "execution_count": 30,
   "metadata": {
    "dotnet_interactive": {
     "language": "csharp"
    },
    "polyglot_notebook": {
     "kernelName": "csharp"
    }
   },
   "outputs": [
    {
     "name": "stdout",
     "output_type": "stream",
     "text": [
      "True\r\n"
     ]
    }
   ],
   "source": [
    "Console.WriteLine(p1 == p2);"
   ]
  }
 ],
 "metadata": {
  "kernelspec": {
   "display_name": ".NET (C#)",
   "language": "C#",
   "name": ".net-csharp"
  },
  "language_info": {
   "name": "polyglot-notebook"
  },
  "polyglot_notebook": {
   "kernelInfo": {
    "defaultKernelName": "csharp",
    "items": [
     {
      "aliases": [],
      "languageName": "csharp",
      "name": "csharp"
     }
    ]
   }
  }
 },
 "nbformat": 4,
 "nbformat_minor": 2
}
