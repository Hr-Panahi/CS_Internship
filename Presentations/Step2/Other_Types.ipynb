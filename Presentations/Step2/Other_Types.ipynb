{
 "cells": [
  {
   "cell_type": "markdown",
   "metadata": {},
   "source": [
    "## Enums\n",
    "### An \"enum\" (short for enumeration) is a value type that represents a set of named constant integral values."
   ]
  },
  {
   "cell_type": "code",
   "execution_count": null,
   "metadata": {
    "dotnet_interactive": {
     "language": "csharp"
    },
    "polyglot_notebook": {
     "kernelName": "csharp"
    }
   },
   "outputs": [],
   "source": [
    "enum Season\n",
    "{\n",
    "    Spring = 1,\n",
    "    Summer = 3,\n",
    "    Autumn = 10,\n",
    "    Winter\n",
    "}\n"
   ]
  },
  {
   "cell_type": "code",
   "execution_count": null,
   "metadata": {
    "dotnet_interactive": {
     "language": "csharp"
    },
    "polyglot_notebook": {
     "kernelName": "csharp"
    }
   },
   "outputs": [],
   "source": [
    "Season mySeason = Season.Winter;"
   ]
  },
  {
   "cell_type": "code",
   "execution_count": null,
   "metadata": {
    "dotnet_interactive": {
     "language": "csharp"
    },
    "polyglot_notebook": {
     "kernelName": "csharp"
    }
   },
   "outputs": [],
   "source": [
    "  switch(mySeason) \n",
    "  {\n",
    "      case(Season.Spring):\n",
    "          Console.WriteLine(\"Spring is cool\");\n",
    "          break;\n",
    "      case (Season.Summer):\n",
    "          Console.WriteLine(\"Summer is hot\");\n",
    "          break;\n",
    "      case Season.Autumn:\n",
    "          Console.WriteLine(\"Autumn is cold\");\n",
    "          break;\n",
    "      case Season.Winter:\n",
    "          Console.WriteLine(\"Winter is here!\"); \n",
    "          break;\n",
    "  }"
   ]
  },
  {
   "cell_type": "markdown",
   "metadata": {},
   "source": [
    "## Anonymous Types\n",
    "### Anonymous types provide a convenient way to create objects without having to explicitly define a type. "
   ]
  },
  {
   "cell_type": "code",
   "execution_count": 20,
   "metadata": {
    "dotnet_interactive": {
     "language": "csharp"
    },
    "polyglot_notebook": {
     "kernelName": "csharp"
    }
   },
   "outputs": [
    {
     "name": "stdout",
     "output_type": "stream",
     "text": [
      "Name: Hamid Reza Panahi, Age: 28\r\n"
     ]
    }
   ],
   "source": [
    "var person = new\n",
    "{\n",
    " FirstName = \"Hamid Reza\",\n",
    " LastName = \"Panahi\",\n",
    " Age = 28\n",
    "};\n",
    "Console.WriteLine($\"Name: {person.FirstName} {person.LastName}, Age: {person. Age}\");"
   ]
  },
  {
   "cell_type": "markdown",
   "metadata": {},
   "source": [
    "## Partial Types\n",
    "### A partial type is a language feature that allows a single class, struct, or interface to be defined in multiple file"
   ]
  },
  {
   "cell_type": "code",
   "execution_count": null,
   "metadata": {
    "dotnet_interactive": {
     "language": "csharp"
    },
    "polyglot_notebook": {
     "kernelName": "csharp"
    }
   },
   "outputs": [],
   "source": [
    "// File from MyClassPart1.cs\n",
    "public partial class MyClass\n",
    "{\n",
    "    public void Method1()\n",
    "    {\n",
    "        Console.WriteLine(\"Method1\");\n",
    "    }\n",
    "}\n",
    "\n",
    "// File from MyClassPart2.cs\n",
    "public partial class MyClass\n",
    "{\n",
    "    public void Method2()\n",
    "    {\n",
    "        Console.WriteLine(\"Method2\");\n",
    "    }\n",
    "}\n",
    "\n",
    "// File: Program.cs\n",
    "MyClass myObject = new MyClass();\n",
    "myObject.Method1();\n",
    "myObject.Method2();"
   ]
  }
 ],
 "metadata": {
  "kernelspec": {
   "display_name": ".NET (C#)",
   "language": "C#",
   "name": ".net-csharp"
  },
  "language_info": {
   "name": "polyglot-notebook"
  },
  "polyglot_notebook": {
   "kernelInfo": {
    "defaultKernelName": "csharp",
    "items": [
     {
      "aliases": [],
      "languageName": "csharp",
      "name": "csharp"
     }
    ]
   }
  }
 },
 "nbformat": 4,
 "nbformat_minor": 2
}
