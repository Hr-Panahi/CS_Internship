{
 "cells": [
  {
   "cell_type": "markdown",
   "metadata": {},
   "source": [
    "## Struct\n",
    "\n",
    "Differences:\n",
    "- Value Type\n",
    "- No Inheritance\n",
    "- Implicit Parameterless Constructor\n",
    "- Immutabale by default"
   ]
  },
  {
   "cell_type": "code",
   "execution_count": null,
   "metadata": {
    "dotnet_interactive": {
     "language": "csharp"
    },
    "polyglot_notebook": {
     "kernelName": "csharp"
    }
   },
   "outputs": [],
   "source": [
    "public struct Point\n",
    "{\n",
    "    private double _x;\n",
    "    private double _y;\n",
    "    public Point(double x, double y)\n",
    "    {\n",
    "        _x = x;\n",
    "        _y = y;\n",
    "    }\n",
    "\n",
    "    public double X => _x;\n",
    "    public double Y => _y;\n",
    "    \n",
    "    /*\n",
    "    public override bool Equals(object? o) => o is Point p && this.Equals(p);\n",
    "    \n",
    "    public bool Equals(Point o) => this.X == o.X && this.Y == o.Y;\n",
    "    \n",
    "    public override int GetHashCode() => HashCode.Combine(X, Y);\n",
    "    \n",
    "    public static bool operator ==(Point a, Point b) => a.Equals(b);\n",
    "    \n",
    "    public static bool operator !=(Point a, Point b) => !(a == b); */\n",
    "}"
   ]
  },
  {
   "cell_type": "code",
   "execution_count": null,
   "metadata": {
    "dotnet_interactive": {
     "language": "csharp"
    },
    "polyglot_notebook": {
     "kernelName": "csharp"
    }
   },
   "outputs": [],
   "source": [
    "Point p1 = new Point(10, 20);\n",
    "Point p2 = new Point(10, 20);"
   ]
  },
  {
   "cell_type": "code",
   "execution_count": null,
   "metadata": {
    "dotnet_interactive": {
     "language": "csharp"
    },
    "polyglot_notebook": {
     "kernelName": "csharp"
    }
   },
   "outputs": [],
   "source": [
    "//comparing two objects of struct\n",
    "Console.WriteLine(p1 == p2);\n",
    "//Console.WriteLine(p1.Equals(p2));\n",
    "//Console.WriteLine(p1.GetHashCode() == p2.GetHashCode())"
   ]
  }
 ],
 "metadata": {
  "kernelspec": {
   "display_name": ".NET (C#)",
   "language": "C#",
   "name": ".net-csharp"
  },
  "language_info": {
   "name": "polyglot-notebook"
  },
  "polyglot_notebook": {
   "kernelInfo": {
    "defaultKernelName": "csharp",
    "items": [
     {
      "aliases": [],
      "languageName": "csharp",
      "name": "csharp"
     }
    ]
   }
  }
 },
 "nbformat": 4,
 "nbformat_minor": 2
}
